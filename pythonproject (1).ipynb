{
 "cells": [
  {
   "cell_type": "code",
   "execution_count": 2,
   "id": "55848f02-13b7-4271-a0f0-47af6d34b4bb",
   "metadata": {},
   "outputs": [
    {
     "name": "stdout",
     "output_type": "stream",
     "text": [
      "Requirement already satisfied: pandas in d:\\apps\\anaconda3\\lib\\site-packages (2.1.4)\n",
      "Requirement already satisfied: numpy<2,>=1.23.2 in d:\\apps\\anaconda3\\lib\\site-packages (from pandas) (1.26.4)\n",
      "Requirement already satisfied: python-dateutil>=2.8.2 in d:\\apps\\anaconda3\\lib\\site-packages (from pandas) (2.8.2)\n",
      "Requirement already satisfied: pytz>=2020.1 in d:\\apps\\anaconda3\\lib\\site-packages (from pandas) (2023.3.post1)\n",
      "Requirement already satisfied: tzdata>=2022.1 in d:\\apps\\anaconda3\\lib\\site-packages (from pandas) (2023.3)\n",
      "Requirement already satisfied: six>=1.5 in d:\\apps\\anaconda3\\lib\\site-packages (from python-dateutil>=2.8.2->pandas) (1.16.0)\n",
      "Note: you may need to restart the kernel to use updated packages.\n"
     ]
    }
   ],
   "source": [
    "pip install pandas"
   ]
  },
  {
   "cell_type": "code",
   "execution_count": 6,
   "id": "af956669-5e19-405e-8c1c-ea2deb4ae75e",
   "metadata": {},
   "outputs": [],
   "source": [
    " import pandas as pd"
   ]
  },
  {
   "cell_type": "code",
   "execution_count": 3,
   "id": "80a42f76-bb90-47d2-8c8e-291e760d6720",
   "metadata": {},
   "outputs": [],
   "source": [
    "orders = pd.read_csv(\"C://Users//Admin//Downloads//orders.csv\")"
   ]
  },
  {
   "cell_type": "code",
   "execution_count": 4,
   "id": "693c6a4a-e22f-4159-9eeb-82ac7458e46e",
   "metadata": {},
   "outputs": [
    {
     "name": "stdout",
     "output_type": "stream",
     "text": [
      "      order_id  customer_id  order_status  order_date required_date  \\\n",
      "0            1          259             4  2016-01-01    2016-01-03   \n",
      "1            2         1212             4  2016-01-01    2016-01-04   \n",
      "2            3          523             4  2016-01-02    2016-01-05   \n",
      "3            4          175             4  2016-01-03    2016-01-04   \n",
      "4            5         1324             4  2016-01-03    2016-01-06   \n",
      "...        ...          ...           ...         ...           ...   \n",
      "1610      1611            6             3  2018-09-06    2018-09-06   \n",
      "1611      1612            3             3  2018-10-21    2018-10-21   \n",
      "1612      1613            1             3  2018-11-18    2018-11-18   \n",
      "1613      1614          135             3  2018-11-28    2018-11-28   \n",
      "1614      1615          136             3  2018-12-28    2018-12-28   \n",
      "\n",
      "     shipped_date  store_id  staff_id  \n",
      "0      2016-01-03         1         2  \n",
      "1      2016-01-03         2         6  \n",
      "2      2016-01-03         2         7  \n",
      "3      2016-01-05         1         3  \n",
      "4      2016-01-06         2         6  \n",
      "...           ...       ...       ...  \n",
      "1610          NaN         2         7  \n",
      "1611          NaN         1         3  \n",
      "1612          NaN         2         6  \n",
      "1613          NaN         3         8  \n",
      "1614          NaN         3         8  \n",
      "\n",
      "[1615 rows x 8 columns]\n"
     ]
    }
   ],
   "source": [
    "print(orders)"
   ]
  },
  {
   "cell_type": "code",
   "execution_count": 5,
   "id": "1fab7e91-85e0-4a5d-939b-8669c2de6144",
   "metadata": {},
   "outputs": [],
   "source": [
    "order_items = pd.read_csv(\"C://Users//Admin//Downloads//order_items.csv\")"
   ]
  },
  {
   "cell_type": "code",
   "execution_count": 7,
   "id": "a66c009d-94fa-4dda-b11a-d0701e5cbefa",
   "metadata": {},
   "outputs": [
    {
     "name": "stdout",
     "output_type": "stream",
     "text": [
      "      order_id  item_id  product_id  quantity  list_price  discount\n",
      "0            1        1          20         1      599.99      0.20\n",
      "1            1        2           8         2     1799.99      0.07\n",
      "2            1        3          10         2     1549.00      0.05\n",
      "3            1        4          16         2      599.99      0.05\n",
      "4            1        5           4         1     2899.99      0.20\n",
      "...        ...      ...         ...       ...         ...       ...\n",
      "4717      1614        2         159         2     2299.99      0.07\n",
      "4718      1614        3         213         2      269.99      0.20\n",
      "4719      1615        1         197         2     2299.99      0.20\n",
      "4720      1615        2         214         1      899.99      0.07\n",
      "4721      1615        3         182         1     2499.99      0.20\n",
      "\n",
      "[4722 rows x 6 columns]\n"
     ]
    }
   ],
   "source": [
    "print(order_items)"
   ]
  },
  {
   "cell_type": "code",
   "execution_count": 8,
   "id": "9ba7a29e-78c5-47ef-b7cb-d07c42d0769a",
   "metadata": {},
   "outputs": [],
   "source": [
    "customers = pd.read_csv(\"C://Users//Admin//Downloads//customers.csv\")"
   ]
  },
  {
   "cell_type": "code",
   "execution_count": 9,
   "id": "be0c38a8-fb80-4746-b9a8-27cb48271c6d",
   "metadata": {},
   "outputs": [
    {
     "name": "stdout",
     "output_type": "stream",
     "text": [
      "      customer_id  first_name last_name           phone  \\\n",
      "0               1       Debra     Burks             NaN   \n",
      "1               2       Kasha      Todd             NaN   \n",
      "2               3      Tameka    Fisher             NaN   \n",
      "3               4       Daryl    Spence             NaN   \n",
      "4               5  Charolette      Rice  (916) 381-6003   \n",
      "...           ...         ...       ...             ...   \n",
      "1440         1441      Jamaal  Morrison             NaN   \n",
      "1441         1442      Cassie     Cline             NaN   \n",
      "1442         1443      Lezlie      Lamb             NaN   \n",
      "1443         1444      Ivette     Estes             NaN   \n",
      "1444         1445       Ester   Acevedo             NaN   \n",
      "\n",
      "                        email                  street           city state  \\\n",
      "0       debra.burks@yahoo.com       9273 Thorne Ave.    Orchard Park    NY   \n",
      "1        kasha.todd@yahoo.com        910 Vine Street        Campbell    CA   \n",
      "2       tameka.fisher@aol.com   769C Honey Creek St.   Redondo Beach    CA   \n",
      "3        daryl.spence@aol.com         988 Pearl Lane       Uniondale    NY   \n",
      "4     charolette.rice@msn.com          107 River Dr.      Sacramento    CA   \n",
      "...                       ...                     ...            ...   ...   \n",
      "1440  jamaal.morrison@msn.com  796 SE. Nut Swamp St.   Staten Island    NY   \n",
      "1441   cassie.cline@gmail.com    947 Lafayette Drive        Brooklyn    NY   \n",
      "1442    lezlie.lamb@gmail.com  401 Brandywine Street   Central Islip    NY   \n",
      "1443   ivette.estes@gmail.com  88 N. Canterbury Ave.     Canandaigua    NY   \n",
      "1444  ester.acevedo@gmail.com        671 Miles Court     San Lorenzo    CA   \n",
      "\n",
      "      zip_code  \n",
      "0        14127  \n",
      "1        95008  \n",
      "2        90278  \n",
      "3        11553  \n",
      "4        95820  \n",
      "...        ...  \n",
      "1440     10301  \n",
      "1441     11201  \n",
      "1442     11722  \n",
      "1443     14424  \n",
      "1444     94580  \n",
      "\n",
      "[1445 rows x 9 columns]\n"
     ]
    }
   ],
   "source": [
    "print(customers)"
   ]
  },
  {
   "cell_type": "code",
   "execution_count": 4,
   "id": "98f07c2f-4709-4ef1-9d29-a41b25d980a4",
   "metadata": {},
   "outputs": [],
   "source": [
    "data = {\n",
    "    'Product_ID':[101,201,301,401,501],\n",
    "    'product_name':['Notebook', 'Computer', 'Scale', 'Mouse', 'Lignt'],\n",
    "    'product_category':['Material','Electric Appliance','Material','Electric Appliance','Electric Appliance'],\n",
    "    'Cost' : [2000,3000,4000,5000,6000],\n",
    "    'Stock_status' : ['Yes', 'No', 'Yes', 'No', 'Yes']\n",
    "}"
   ]
  },
  {
   "cell_type": "code",
   "execution_count": 7,
   "id": "2d1b4f47-89d9-4478-a91c-8d182ca5a963",
   "metadata": {},
   "outputs": [],
   "source": [
    "df = pd.DataFrame(data)"
   ]
  },
  {
   "cell_type": "code",
   "execution_count": 8,
   "id": "14cd20d6-f11c-478d-bdd7-70b190ae714b",
   "metadata": {},
   "outputs": [
    {
     "name": "stdout",
     "output_type": "stream",
     "text": [
      "   Product_ID product_name    product_category  Cost Stock_status\n",
      "0         101     Notebook            Material  2000          Yes\n",
      "1         201     Computer  Electric Appliance  3000           No\n",
      "2         301        Scale            Material  4000          Yes\n",
      "3         401        Mouse  Electric Appliance  5000           No\n",
      "4         501        Lignt  Electric Appliance  6000          Yes\n"
     ]
    }
   ],
   "source": [
    "print(df)"
   ]
  },
  {
   "cell_type": "code",
   "execution_count": 9,
   "id": "52d34ee3-7819-4734-9d7f-6d624dfae2e1",
   "metadata": {},
   "outputs": [
    {
     "name": "stdout",
     "output_type": "stream",
     "text": [
      "<class 'pandas.core.frame.DataFrame'>\n",
      "RangeIndex: 5 entries, 0 to 4\n",
      "Data columns (total 5 columns):\n",
      " #   Column            Non-Null Count  Dtype \n",
      "---  ------            --------------  ----- \n",
      " 0   Product_ID        5 non-null      int64 \n",
      " 1   product_name      5 non-null      object\n",
      " 2   product_category  5 non-null      object\n",
      " 3   Cost              5 non-null      int64 \n",
      " 4   Stock_status      5 non-null      object\n",
      "dtypes: int64(2), object(3)\n",
      "memory usage: 332.0+ bytes\n"
     ]
    }
   ],
   "source": [
    "df.info()"
   ]
  },
  {
   "cell_type": "code",
   "execution_count": 10,
   "id": "0a89c911-b8b3-4b09-8a05-9f0c62503e0e",
   "metadata": {},
   "outputs": [
    {
     "data": {
      "text/html": [
       "<div>\n",
       "<style scoped>\n",
       "    .dataframe tbody tr th:only-of-type {\n",
       "        vertical-align: middle;\n",
       "    }\n",
       "\n",
       "    .dataframe tbody tr th {\n",
       "        vertical-align: top;\n",
       "    }\n",
       "\n",
       "    .dataframe thead th {\n",
       "        text-align: right;\n",
       "    }\n",
       "</style>\n",
       "<table border=\"1\" class=\"dataframe\">\n",
       "  <thead>\n",
       "    <tr style=\"text-align: right;\">\n",
       "      <th></th>\n",
       "      <th>Product_ID</th>\n",
       "      <th>Cost</th>\n",
       "    </tr>\n",
       "  </thead>\n",
       "  <tbody>\n",
       "    <tr>\n",
       "      <th>count</th>\n",
       "      <td>5.000000</td>\n",
       "      <td>5.00000</td>\n",
       "    </tr>\n",
       "    <tr>\n",
       "      <th>mean</th>\n",
       "      <td>301.000000</td>\n",
       "      <td>4000.00000</td>\n",
       "    </tr>\n",
       "    <tr>\n",
       "      <th>std</th>\n",
       "      <td>158.113883</td>\n",
       "      <td>1581.13883</td>\n",
       "    </tr>\n",
       "    <tr>\n",
       "      <th>min</th>\n",
       "      <td>101.000000</td>\n",
       "      <td>2000.00000</td>\n",
       "    </tr>\n",
       "    <tr>\n",
       "      <th>25%</th>\n",
       "      <td>201.000000</td>\n",
       "      <td>3000.00000</td>\n",
       "    </tr>\n",
       "    <tr>\n",
       "      <th>50%</th>\n",
       "      <td>301.000000</td>\n",
       "      <td>4000.00000</td>\n",
       "    </tr>\n",
       "    <tr>\n",
       "      <th>75%</th>\n",
       "      <td>401.000000</td>\n",
       "      <td>5000.00000</td>\n",
       "    </tr>\n",
       "    <tr>\n",
       "      <th>max</th>\n",
       "      <td>501.000000</td>\n",
       "      <td>6000.00000</td>\n",
       "    </tr>\n",
       "  </tbody>\n",
       "</table>\n",
       "</div>"
      ],
      "text/plain": [
       "       Product_ID        Cost\n",
       "count    5.000000     5.00000\n",
       "mean   301.000000  4000.00000\n",
       "std    158.113883  1581.13883\n",
       "min    101.000000  2000.00000\n",
       "25%    201.000000  3000.00000\n",
       "50%    301.000000  4000.00000\n",
       "75%    401.000000  5000.00000\n",
       "max    501.000000  6000.00000"
      ]
     },
     "execution_count": 10,
     "metadata": {},
     "output_type": "execute_result"
    }
   ],
   "source": [
    "df.describe()"
   ]
  },
  {
   "cell_type": "code",
   "execution_count": 11,
   "id": "b74511c6-674b-4423-8cc5-9f4db466f694",
   "metadata": {},
   "outputs": [
    {
     "data": {
      "text/plain": [
       "Product_ID  product_name  product_category    Cost  Stock_status\n",
       "101         Notebook      Material            2000  Yes             1\n",
       "201         Computer      Electric Appliance  3000  No              1\n",
       "301         Scale         Material            4000  Yes             1\n",
       "401         Mouse         Electric Appliance  5000  No              1\n",
       "501         Lignt         Electric Appliance  6000  Yes             1\n",
       "Name: count, dtype: int64"
      ]
     },
     "execution_count": 11,
     "metadata": {},
     "output_type": "execute_result"
    }
   ],
   "source": [
    "df.value_counts()"
   ]
  },
  {
   "cell_type": "code",
   "execution_count": 11,
   "id": "505ef107-09f6-436f-9a7d-34c98dd27284",
   "metadata": {},
   "outputs": [
    {
     "name": "stdout",
     "output_type": "stream",
     "text": [
      "Requirement already satisfied: matplotlib in d:\\apps\\anaconda3\\lib\\site-packages (3.8.0)\n",
      "Requirement already satisfied: contourpy>=1.0.1 in d:\\apps\\anaconda3\\lib\\site-packages (from matplotlib) (1.2.0)\n",
      "Requirement already satisfied: cycler>=0.10 in d:\\apps\\anaconda3\\lib\\site-packages (from matplotlib) (0.11.0)\n",
      "Requirement already satisfied: fonttools>=4.22.0 in d:\\apps\\anaconda3\\lib\\site-packages (from matplotlib) (4.25.0)\n",
      "Requirement already satisfied: kiwisolver>=1.0.1 in d:\\apps\\anaconda3\\lib\\site-packages (from matplotlib) (1.4.4)\n",
      "Requirement already satisfied: numpy<2,>=1.21 in d:\\apps\\anaconda3\\lib\\site-packages (from matplotlib) (1.26.4)\n",
      "Requirement already satisfied: packaging>=20.0 in d:\\apps\\anaconda3\\lib\\site-packages (from matplotlib) (23.1)\n",
      "Requirement already satisfied: pillow>=6.2.0 in d:\\apps\\anaconda3\\lib\\site-packages (from matplotlib) (10.2.0)\n",
      "Requirement already satisfied: pyparsing>=2.3.1 in d:\\apps\\anaconda3\\lib\\site-packages (from matplotlib) (3.0.9)\n",
      "Requirement already satisfied: python-dateutil>=2.7 in d:\\apps\\anaconda3\\lib\\site-packages (from matplotlib) (2.8.2)\n",
      "Requirement already satisfied: six>=1.5 in d:\\apps\\anaconda3\\lib\\site-packages (from python-dateutil>=2.7->matplotlib) (1.16.0)\n",
      "Note: you may need to restart the kernel to use updated packages.\n"
     ]
    }
   ],
   "source": [
    "pip install matplotlib"
   ]
  },
  {
   "cell_type": "code",
   "execution_count": 12,
   "id": "49f1af67-9f74-498e-b44a-e02dd8d9960c",
   "metadata": {},
   "outputs": [],
   "source": [
    "import matplotlib.pyplot as plt"
   ]
  },
  {
   "cell_type": "code",
   "execution_count": 18,
   "id": "e24e1c6b-2a9b-473c-9839-679232c6791a",
   "metadata": {},
   "outputs": [
    {
     "data": {
      "text/plain": [
       "<BarContainer object of 5 artists>"
      ]
     },
     "execution_count": 18,
     "metadata": {},
     "output_type": "execute_result"
    },
    {
     "data": {
      "image/png": "[encoded data removed]",
      "text/plain": [
       "<Figure size 640x480 with 1 Axes>"
      ]
     },
     "metadata": {},
     "output_type": "display_data"
    }
   ],
   "source": [
    "plt.bar(data['product_name'],data['Cost'])"
   ]
  },
  {
   "cell_type": "code",
   "execution_count": 22,
   "id": "1f2c8c56-64ba-4566-8f14-18bc58660d42",
   "metadata": {},
   "outputs": [
    {
     "data": {
      "text/plain": [
       "[<matplotlib.lines.Line2D at 0x1b339239e90>]"
      ]
     },
     "execution_count": 22,
     "metadata": {},
     "output_type": "execute_result"
    },
    {
     "data": {
      "image/png": "[encoded data removed]",
      "text/plain": [
       "<Figure size 640x480 with 1 Axes>"
      ]
     },
     "metadata": {},
     "output_type": "display_data"
    }
   ],
   "source": [
    "plt.plot(data['product_category'],data['Cost'])"
   ]
  },
  {
   "cell_type": "code",
   "execution_count": 24,
   "id": "b5acbda7-a431-4b97-a2f9-6fe0e8a3a2e3",
   "metadata": {},
   "outputs": [
    {
     "data": {
      "text/plain": [
       "<matplotlib.collections.PathCollection at 0x1b3391ce4d0>"
      ]
     },
     "execution_count": 24,
     "metadata": {},
     "output_type": "execute_result"
    },
    {
     "data": {
      "image/png": "[encoded data removed]",
      "text/plain": [
       "<Figure size 640x480 with 1 Axes>"
      ]
     },
     "metadata": {},
     "output_type": "display_data"
    }
   ],
   "source": [
    "plt.scatter(data['product_name'],data['Cost'])"
   ]
  },
  {
   "cell_type": "code",
   "execution_count": 25,
   "id": "9b2d27ac-c78b-4158-87bb-1b4f8cd7570e",
   "metadata": {},
   "outputs": [
    {
     "name": "stdout",
     "output_type": "stream",
     "text": [
      "Requirement already satisfied: seaborn in d:\\apps\\anaconda3\\lib\\site-packages (0.12.2)\n",
      "Requirement already satisfied: numpy!=1.24.0,>=1.17 in d:\\apps\\anaconda3\\lib\\site-packages (from seaborn) (1.26.4)\n",
      "Requirement already satisfied: pandas>=0.25 in d:\\apps\\anaconda3\\lib\\site-packages (from seaborn) (2.1.4)\n",
      "Requirement already satisfied: matplotlib!=3.6.1,>=3.1 in d:\\apps\\anaconda3\\lib\\site-packages (from seaborn) (3.8.0)\n",
      "Requirement already satisfied: contourpy>=1.0.1 in d:\\apps\\anaconda3\\lib\\site-packages (from matplotlib!=3.6.1,>=3.1->seaborn) (1.2.0)\n",
      "Requirement already satisfied: cycler>=0.10 in d:\\apps\\anaconda3\\lib\\site-packages (from matplotlib!=3.6.1,>=3.1->seaborn) (0.11.0)\n",
      "Requirement already satisfied: fonttools>=4.22.0 in d:\\apps\\anaconda3\\lib\\site-packages (from matplotlib!=3.6.1,>=3.1->seaborn) (4.25.0)\n",
      "Requirement already satisfied: kiwisolver>=1.0.1 in d:\\apps\\anaconda3\\lib\\site-packages (from matplotlib!=3.6.1,>=3.1->seaborn) (1.4.4)\n",
      "Requirement already satisfied: packaging>=20.0 in d:\\apps\\anaconda3\\lib\\site-packages (from matplotlib!=3.6.1,>=3.1->seaborn) (23.1)\n",
      "Requirement already satisfied: pillow>=6.2.0 in d:\\apps\\anaconda3\\lib\\site-packages (from matplotlib!=3.6.1,>=3.1->seaborn) (10.2.0)\n",
      "Requirement already satisfied: pyparsing>=2.3.1 in d:\\apps\\anaconda3\\lib\\site-packages (from matplotlib!=3.6.1,>=3.1->seaborn) (3.0.9)\n",
      "Requirement already satisfied: python-dateutil>=2.7 in d:\\apps\\anaconda3\\lib\\site-packages (from matplotlib!=3.6.1,>=3.1->seaborn) (2.8.2)\n",
      "Requirement already satisfied: pytz>=2020.1 in d:\\apps\\anaconda3\\lib\\site-packages (from pandas>=0.25->seaborn) (2023.3.post1)\n",
      "Requirement already satisfied: tzdata>=2022.1 in d:\\apps\\anaconda3\\lib\\site-packages (from pandas>=0.25->seaborn) (2023.3)\n",
      "Requirement already satisfied: six>=1.5 in d:\\apps\\anaconda3\\lib\\site-packages (from python-dateutil>=2.7->matplotlib!=3.6.1,>=3.1->seaborn) (1.16.0)\n",
      "Note: you may need to restart the kernel to use updated packages.\n"
     ]
    }
   ],
   "source": [
    "pip install seaborn"
   ]
  },
  {
   "cell_type": "code",
   "execution_count": 27,
   "id": "1ce56303-f57f-4ffb-b756-4fee162ac5c2",
   "metadata": {},
   "outputs": [],
   "source": [
    "import seaborn as sns"
   ]
  },
  {
   "cell_type": "code",
   "execution_count": 28,
   "id": "dcfb45d9-6682-4311-98e7-7da28985420b",
   "metadata": {},
   "outputs": [],
   "source": [
    "df=sns.load_dataset('iris')"
   ]
  },
  {
   "cell_type": "code",
   "execution_count": 29,
   "id": "b8101b73-0eb9-432a-bbf7-e5fe8c6eb904",
   "metadata": {},
   "outputs": [
    {
     "data": {
      "text/html": [
       "<div>\n",
       "<style scoped>\n",
       "    .dataframe tbody tr th:only-of-type {\n",
       "        vertical-align: middle;\n",
       "    }\n",
       "\n",
       "    .dataframe tbody tr th {\n",
       "        vertical-align: top;\n",
       "    }\n",
       "\n",
       "    .dataframe thead th {\n",
       "        text-align: right;\n",
       "    }\n",
       "</style>\n",
       "<table border=\"1\" class=\"dataframe\">\n",
       "  <thead>\n",
       "    <tr style=\"text-align: right;\">\n",
       "      <th></th>\n",
       "      <th>sepal_length</th>\n",
       "      <th>sepal_width</th>\n",
       "      <th>petal_length</th>\n",
       "      <th>petal_width</th>\n",
       "      <th>species</th>\n",
       "    </tr>\n",
       "  </thead>\n",
       "  <tbody>\n",
       "    <tr>\n",
       "      <th>0</th>\n",
       "      <td>5.1</td>\n",
       "      <td>3.5</td>\n",
       "      <td>1.4</td>\n",
       "      <td>0.2</td>\n",
       "      <td>setosa</td>\n",
       "    </tr>\n",
       "    <tr>\n",
       "      <th>1</th>\n",
       "      <td>4.9</td>\n",
       "      <td>3.0</td>\n",
       "      <td>1.4</td>\n",
       "      <td>0.2</td>\n",
       "      <td>setosa</td>\n",
       "    </tr>\n",
       "    <tr>\n",
       "      <th>2</th>\n",
       "      <td>4.7</td>\n",
       "      <td>3.2</td>\n",
       "      <td>1.3</td>\n",
       "      <td>0.2</td>\n",
       "      <td>setosa</td>\n",
       "    </tr>\n",
       "    <tr>\n",
       "      <th>3</th>\n",
       "      <td>4.6</td>\n",
       "      <td>3.1</td>\n",
       "      <td>1.5</td>\n",
       "      <td>0.2</td>\n",
       "      <td>setosa</td>\n",
       "    </tr>\n",
       "    <tr>\n",
       "      <th>4</th>\n",
       "      <td>5.0</td>\n",
       "      <td>3.6</td>\n",
       "      <td>1.4</td>\n",
       "      <td>0.2</td>\n",
       "      <td>setosa</td>\n",
       "    </tr>\n",
       "    <tr>\n",
       "      <th>...</th>\n",
       "      <td>...</td>\n",
       "      <td>...</td>\n",
       "      <td>...</td>\n",
       "      <td>...</td>\n",
       "      <td>...</td>\n",
       "    </tr>\n",
       "    <tr>\n",
       "      <th>145</th>\n",
       "      <td>6.7</td>\n",
       "      <td>3.0</td>\n",
       "      <td>5.2</td>\n",
       "      <td>2.3</td>\n",
       "      <td>virginica</td>\n",
       "    </tr>\n",
       "    <tr>\n",
       "      <th>146</th>\n",
       "      <td>6.3</td>\n",
       "      <td>2.5</td>\n",
       "      <td>5.0</td>\n",
       "      <td>1.9</td>\n",
       "      <td>virginica</td>\n",
       "    </tr>\n",
       "    <tr>\n",
       "      <th>147</th>\n",
       "      <td>6.5</td>\n",
       "      <td>3.0</td>\n",
       "      <td>5.2</td>\n",
       "      <td>2.0</td>\n",
       "      <td>virginica</td>\n",
       "    </tr>\n",
       "    <tr>\n",
       "      <th>148</th>\n",
       "      <td>6.2</td>\n",
       "      <td>3.4</td>\n",
       "      <td>5.4</td>\n",
       "      <td>2.3</td>\n",
       "      <td>virginica</td>\n",
       "    </tr>\n",
       "    <tr>\n",
       "      <th>149</th>\n",
       "      <td>5.9</td>\n",
       "      <td>3.0</td>\n",
       "      <td>5.1</td>\n",
       "      <td>1.8</td>\n",
       "      <td>virginica</td>\n",
       "    </tr>\n",
       "  </tbody>\n",
       "</table>\n",
       "<p>150 rows × 5 columns</p>\n",
       "</div>"
      ],
      "text/plain": [
       "     sepal_length  sepal_width  petal_length  petal_width    species\n",
       "0             5.1          3.5           1.4          0.2     setosa\n",
       "1             4.9          3.0           1.4          0.2     setosa\n",
       "2             4.7          3.2           1.3          0.2     setosa\n",
       "3             4.6          3.1           1.5          0.2     setosa\n",
       "4             5.0          3.6           1.4          0.2     setosa\n",
       "..            ...          ...           ...          ...        ...\n",
       "145           6.7          3.0           5.2          2.3  virginica\n",
       "146           6.3          2.5           5.0          1.9  virginica\n",
       "147           6.5          3.0           5.2          2.0  virginica\n",
       "148           6.2          3.4           5.4          2.3  virginica\n",
       "149           5.9          3.0           5.1          1.8  virginica\n",
       "\n",
       "[150 rows x 5 columns]"
      ]
     },
     "execution_count": 29,
     "metadata": {},
     "output_type": "execute_result"
    }
   ],
   "source": [
    "df"
   ]
  },
  {
   "cell_type": "code",
   "execution_count": 30,
   "id": "47c6b97e-131a-48cc-9531-48db49bf12fd",
   "metadata": {},
   "outputs": [
    {
     "data": {
      "text/plain": [
       "<Axes: xlabel='sepal_length', ylabel='species'>"
      ]
     },
     "execution_count": 30,
     "metadata": {},
     "output_type": "execute_result"
    },
    {
     "data": {
      "image/png": "[encoded data removed]",
      "text/plain": [
       "<Figure size 640x480 with 1 Axes>"
      ]
     },
     "metadata": {},
     "output_type": "display_data"
    }
   ],
   "source": [
    "sns.violinplot(data=df,x='sepal_length',y='species')"
   ]
  },
  {
   "cell_type": "code",
   "execution_count": 31,
   "id": "6b3add39-171f-4619-801b-45e71ad26853",
   "metadata": {},
   "outputs": [
    {
     "data": {
      "text/plain": [
       "<Axes: xlabel='sepal_length', ylabel='species'>"
      ]
     },
     "execution_count": 31,
     "metadata": {},
     "output_type": "execute_result"
    },
    {
     "data": {
      "image/png": "[encoded data removed]",
      "text/plain": [
       "<Figure size 640x480 with 1 Axes>"
      ]
     },
     "metadata": {},
     "output_type": "display_data"
    }
   ],
   "source": [
    "sns.boxplot(data=df,x='sepal_length',y='species')"
   ]
  },
  {
   "cell_type": "code",
   "execution_count": 35,
   "id": "dc1623d8-caa6-4427-bd68-51ea6d41966b",
   "metadata": {},
   "outputs": [
    {
     "data": {
      "text/plain": [
       "<Axes: xlabel='sepal_length', ylabel='count'>"
      ]
     },
     "execution_count": 35,
     "metadata": {},
     "output_type": "execute_result"
    },
    {
     "data": {
      "image/png": "[encoded data removed]",
      "text/plain": [
       "<Figure size 640x480 with 1 Axes>"
      ]
     },
     "metadata": {},
     "output_type": "display_data"
    }
   ],
   "source": [
    "sns.countplot(data=df,x='sepal_length')"
   ]
  },
  {
   "cell_type": "code",
   "execution_count": 36,
   "id": "abb5c1ff-7886-428a-a147-6d1271bb55eb",
   "metadata": {},
   "outputs": [
    {
     "name": "stderr",
     "output_type": "stream",
     "text": [
      "D:\\Apps\\anaconda3\\Lib\\site-packages\\seaborn\\_oldcore.py:1119: FutureWarning: use_inf_as_na option is deprecated and will be removed in a future version. Convert inf values to NaN before operating instead.\n",
      "  with pd.option_context('mode.use_inf_as_na', True):\n",
      "D:\\Apps\\anaconda3\\Lib\\site-packages\\seaborn\\_oldcore.py:1119: FutureWarning: use_inf_as_na option is deprecated and will be removed in a future version. Convert inf values to NaN before operating instead.\n",
      "  with pd.option_context('mode.use_inf_as_na', True):\n"
     ]
    },
    {
     "data": {
      "text/plain": [
       "<Axes: xlabel='sepal_length', ylabel='species'>"
      ]
     },
     "execution_count": 36,
     "metadata": {},
     "output_type": "execute_result"
    },
    {
     "data": {
      "image/png": "[encoded data removed]",
      "text/plain": [
       "<Figure size 640x480 with 1 Axes>"
      ]
     },
     "metadata": {},
     "output_type": "display_data"
    }
   ],
   "source": [
    "sns.histplot(data=df,x='sepal_length',y='species')"
   ]
  },
  {
   "cell_type": "code",
   "execution_count": 37,
   "id": "e7e0e59d-fe06-4fb5-ad51-ea7f7dbba2d5",
   "metadata": {},
   "outputs": [
    {
     "ename": "ModuleNotFoundError",
     "evalue": "No module named 'datatime'",
     "output_type": "error",
     "traceback": [
      "\u001b[1;31m---------------------------------------------------------------------------\u001b[0m",
      "\u001b[1;31mModuleNotFoundError\u001b[0m                       Traceback (most recent call last)",
      "Cell \u001b[1;32mIn[37], line 1\u001b[0m\n\u001b[1;32m----> 1\u001b[0m \u001b[38;5;28;01mfrom\u001b[39;00m \u001b[38;5;21;01mdatatime\u001b[39;00m \u001b[38;5;28;01mimport\u001b[39;00m datatime\n",
      "\u001b[1;31mModuleNotFoundError\u001b[0m: No module named 'datatime'"
     ]
    }
   ],
   "source": [
    "from datatime import datatime"
   ]
  },
  {
   "cell_type": "code",
   "execution_count": 38,
   "id": "6c5384fd-e499-41bd-a21e-6d187a9ee5fe",
   "metadata": {},
   "outputs": [],
   "source": [
    "data={\n",
    "    'customer_id': [100,200,300,400,500],\n",
    "    'order_id': [101,201,301,401,501],\n",
    "    'order_date':['2020-01-02','2021-03-28','2022-07-16','2023-06-24','2022-01-11'],\n",
    "    'cost':[1000,2000,3000,4000,5000]\n",
    "}"
   ]
  },
  {
   "cell_type": "code",
   "execution_count": 42,
   "id": "ae06b67a-212f-4edc-b58a-e883e725c719",
   "metadata": {},
   "outputs": [],
   "source": [
    "orders_df = pd.DataFrame(data)"
   ]
  },
  {
   "cell_type": "code",
   "execution_count": 43,
   "id": "3d6d3ac1-4237-479f-b0e1-5d33c30ff01f",
   "metadata": {},
   "outputs": [],
   "source": [
    "orders_df['order_date'] = pd.to_datetime(orders_df['order_date'])"
   ]
  },
  {
   "cell_type": "code",
   "execution_count": 44,
   "id": "69c975ae-a94b-44b8-b96d-0949d6ae3685",
   "metadata": {},
   "outputs": [],
   "source": [
    "reference_date = pd.to_datetime('2023-06-24')"
   ]
  },
  {
   "cell_type": "code",
   "execution_count": 46,
   "id": "273254cb-ce69-4e04-8071-a19b1ca135af",
   "metadata": {},
   "outputs": [],
   "source": [
    "rfm = orders_df.groupby('customer_id').agg({\n",
    "    'order_date': lambda x: (reference_date - x.max()).days,\n",
    "    'order_id': 'count',\n",
    "    'cost': 'sum'\n",
    "    }).reset_index()"
   ]
  },
  {
   "cell_type": "code",
   "execution_count": 47,
   "id": "9ebe92fd-e0fb-4da4-a3ea-2bbc0b40d946",
   "metadata": {},
   "outputs": [],
   "source": [
    "rfm.columns = ['customer_id', 'Recency', 'Frequency', 'Monetary']"
   ]
  },
  {
   "cell_type": "code",
   "execution_count": 48,
   "id": "1f63273d-16ef-4cf0-982b-5759dbf195e9",
   "metadata": {},
   "outputs": [
    {
     "name": "stdout",
     "output_type": "stream",
     "text": [
      "   customer_id  Recency  Frequency  Monetary\n",
      "0          100     1269          1      1000\n",
      "1          200      818          1      2000\n",
      "2          300      343          1      3000\n",
      "3          400        0          1      4000\n",
      "4          500      529          1      5000\n"
     ]
    }
   ],
   "source": [
    "print(rfm)"
   ]
  }
 ],
 "metadata": {
  "kernelspec": {
   "display_name": "Python 3 (ipykernel)",
   "language": "python",
   "name": "python3"
  },
  "language_info": {
   "codemirror_mode": {
    "name": "ipython",
    "version": 3
   },
   "file_extension": ".py",
   "mimetype": "text/x-python",
   "name": "python",
   "nbconvert_exporter": "python",
   "pygments_lexer": "ipython3",
   "version": "3.11.7"
  }
 },
 "nbformat": 4,
 "nbformat_minor": 5
}
